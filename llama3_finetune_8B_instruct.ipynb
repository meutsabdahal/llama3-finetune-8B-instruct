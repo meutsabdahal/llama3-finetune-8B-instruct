{
  "cells": [
    {
      "cell_type": "code",
      "execution_count": 1,
      "metadata": {
        "colab": {
          "base_uri": "https://localhost:8080/"
        },
        "executionInfo": {
          "elapsed": 91492,
          "status": "ok",
          "timestamp": 1754371956746,
          "user": {
            "displayName": "Utsab Dahal",
            "userId": "15827898341895760703"
          },
          "user_tz": -345
        },
        "id": "dDhewkHZZ-wT",
        "outputId": "0ce49d53-7e6d-4fe0-c8a5-5e6bec4ea788"
      },
      "outputs": [
        {
          "name": "stdout",
          "output_type": "stream",
          "text": [
            "\u001b[2K   \u001b[90m━━━━━━━━━━━━━━━━━━━━━━━━━━━━━━━━━━━━━━━━\u001b[0m \u001b[32m72.9/72.9 MB\u001b[0m \u001b[31m14.1 MB/s\u001b[0m eta \u001b[36m0:00:00\u001b[0m\n",
            "\u001b[2K   \u001b[90m━━━━━━━━━━━━━━━━━━━━━━━━━━━━━━━━━━━━━━━━\u001b[0m \u001b[32m504.6/504.6 kB\u001b[0m \u001b[31m41.4 MB/s\u001b[0m eta \u001b[36m0:00:00\u001b[0m\n",
            "\u001b[2K   \u001b[90m━━━━━━━━━━━━━━━━━━━━━━━━━━━━━━━━━━━━━━━━\u001b[0m \u001b[32m363.4/363.4 MB\u001b[0m \u001b[31m4.0 MB/s\u001b[0m eta \u001b[36m0:00:00\u001b[0m\n",
            "\u001b[2K   \u001b[90m━━━━━━━━━━━━━━━━━━━━━━━━━━━━━━━━━━━━━━━━\u001b[0m \u001b[32m13.8/13.8 MB\u001b[0m \u001b[31m123.7 MB/s\u001b[0m eta \u001b[36m0:00:00\u001b[0m\n",
            "\u001b[2K   \u001b[90m━━━━━━━━━━━━━━━━━━━━━━━━━━━━━━━━━━━━━━━━\u001b[0m \u001b[32m24.6/24.6 MB\u001b[0m \u001b[31m98.9 MB/s\u001b[0m eta \u001b[36m0:00:00\u001b[0m\n",
            "\u001b[2K   \u001b[90m━━━━━━━━━━━━━━━━━━━━━━━━━━━━━━━━━━━━━━━━\u001b[0m \u001b[32m883.7/883.7 kB\u001b[0m \u001b[31m41.1 MB/s\u001b[0m eta \u001b[36m0:00:00\u001b[0m\n",
            "\u001b[2K   \u001b[90m━━━━━━━━━━━━━━━━━━━━━━━━━━━━━━━━━━━━━━━━\u001b[0m \u001b[32m664.8/664.8 MB\u001b[0m \u001b[31m2.8 MB/s\u001b[0m eta \u001b[36m0:00:00\u001b[0m\n",
            "\u001b[2K   \u001b[90m━━━━━━━━━━━━━━━━━━━━━━━━━━━━━━━━━━━━━━━━\u001b[0m \u001b[32m211.5/211.5 MB\u001b[0m \u001b[31m5.7 MB/s\u001b[0m eta \u001b[36m0:00:00\u001b[0m\n",
            "\u001b[2K   \u001b[90m━━━━━━━━━━━━━━━━━━━━━━━━━━━━━━━━━━━━━━━━\u001b[0m \u001b[32m56.3/56.3 MB\u001b[0m \u001b[31m15.0 MB/s\u001b[0m eta \u001b[36m0:00:00\u001b[0m\n",
            "\u001b[2K   \u001b[90m━━━━━━━━━━━━━━━━━━━━━━━━━━━━━━━━━━━━━━━━\u001b[0m \u001b[32m127.9/127.9 MB\u001b[0m \u001b[31m7.8 MB/s\u001b[0m eta \u001b[36m0:00:00\u001b[0m\n",
            "\u001b[2K   \u001b[90m━━━━━━━━━━━━━━━━━━━━━━━━━━━━━━━━━━━━━━━━\u001b[0m \u001b[32m207.5/207.5 MB\u001b[0m \u001b[31m6.7 MB/s\u001b[0m eta \u001b[36m0:00:00\u001b[0m\n",
            "\u001b[2K   \u001b[90m━━━━━━━━━━━━━━━━━━━━━━━━━━━━━━━━━━━━━━━━\u001b[0m \u001b[32m21.1/21.1 MB\u001b[0m \u001b[31m104.7 MB/s\u001b[0m eta \u001b[36m0:00:00\u001b[0m\n",
            "\u001b[?25h"
          ]
        }
      ],
      "source": [
        "!pip install -q transformers datasets accelerate bitsandbytes peft trl"
      ]
    },
    {
      "cell_type": "code",
      "execution_count": 2,
      "metadata": {
        "colab": {
          "base_uri": "https://localhost:8080/",
          "height": 17,
          "referenced_widgets": [
            "3399cb6766524b4f90ae6fc5866da868",
            "211eadf10c6d4846ac402f599f117b10",
            "129e81d0a1ce49778abb26d534ebe075",
            "6126814b8efc421991dd184ada05e2ad",
            "57ec589b68124d51ba83039fbec65bdc",
            "e825c74245ca43fb850cef4d1a3ce75c",
            "0a6f8de4ea064927973b599770685a7a",
            "22e2f1b247ea420ea6a118c3059ba7b2",
            "1b6e2f75ef7d4248ad3cc87dab5f8520",
            "34990b4534ea483dafc0a022e5361ea2",
            "aa6af48ed76f41da9c134c74a1cf0fb6",
            "67f30227421546febb40af825053b26d",
            "e4768746eaf64e23ae9eebad398d2a10",
            "6c644ccf47204de39a282dc161ac644e",
            "30d2358a05004e1189d8c356ff436814",
            "993c8e91d10047aa800fceb892752968",
            "bb7cb7e6ccb0432a88997b63190dd3ee",
            "f555cc5952bb46498536baec327d6023",
            "f93c23f1102344ddbafd542ab09637fb",
            "077472254f504309b6c49d800f1fa021"
          ]
        },
        "executionInfo": {
          "elapsed": 1331,
          "status": "ok",
          "timestamp": 1754371958118,
          "user": {
            "displayName": "Utsab Dahal",
            "userId": "15827898341895760703"
          },
          "user_tz": -345
        },
        "id": "hQpCv9L4ifZ7",
        "outputId": "69efcd13-0513-4e69-f771-550df5315cdc"
      },
      "outputs": [
        {
          "data": {
            "application/vnd.jupyter.widget-view+json": {
              "model_id": "3399cb6766524b4f90ae6fc5866da868",
              "version_major": 2,
              "version_minor": 0
            },
            "text/plain": [
              "VBox(children=(HTML(value='<center> <img\\nsrc=https://huggingface.co/front/assets/huggingface_logo-noborder.sv…"
            ]
          },
          "metadata": {},
          "output_type": "display_data"
        }
      ],
      "source": [
        "from huggingface_hub import notebook_login\n",
        "notebook_login()"
      ]
    },
    {
      "cell_type": "code",
      "execution_count": 3,
      "metadata": {
        "colab": {
          "base_uri": "https://localhost:8080/",
          "height": 217,
          "referenced_widgets": [
            "91c20bf007ca472cb8e03ff87a5ed15a",
            "4d541fdb029c4c35920e8ef309b306bb",
            "0eaa08fa12db4e8ca73f700a2b9143c2",
            "d252dd5181a041db9b50a7238e85d875",
            "0616967ba0cd4b49a7ba4b57a3f63ec6",
            "6ffec6905eca40f18be599a673a157f7",
            "ea42673fe5474bedba2c0de9567f17bc",
            "0761f17f9ae4414a989b1937633f46c9",
            "702373561d474566a7b843347a9ebe6e",
            "8194da7f06014c799bd01228ea1abdc1",
            "a2402d33259a4e36b7cb4ac2f8745ecf",
            "bab6a21032b24da49b6a288b71176137",
            "f11dc20306554f18907930846caa1b31",
            "a6713628bd894ccba145eed36ed7f70c",
            "81d3897b71dd41e9852a97899b7df568",
            "99702899d64f4193a42c52619abacf69",
            "3ba46f18e52144dc8098eafb31349967",
            "eca9f0237cef414496a80561c6a8496a",
            "31e39eed54cb4873aed746b0e439ad57",
            "1f0cb1e7b96e462e8883fef8d06de4a4",
            "0c0883e6b1e048639e44d5e450544316",
            "b892d6bce9c74f2e9b599bdd4d56d85f",
            "623a7a99ea564071bde9373c7a7c0678",
            "357f065b20d64d9d9894479fe02ef369",
            "94b834c130ab4f65a6de3c43e743dd7f",
            "74a365f70e0d48b0ac2cb51a0e9ac017",
            "b4594a1e632840408cde6739f21b796a",
            "6176991a2a8c440fafb6126b2c58db55",
            "3c7af1a58647459fa66b48dee011f917",
            "068fdf44f24b4d6f8aa7b57d8ddb54eb",
            "ad3ffa15b91a4c718ac6e9784d6506a5",
            "e10586b4c55a4a19beda3ef9f6cd133e",
            "85aec62a2fb94dc8a8498d8e165e7e9e"
          ]
        },
        "executionInfo": {
          "elapsed": 11734,
          "status": "ok",
          "timestamp": 1754371975516,
          "user": {
            "displayName": "Utsab Dahal",
            "userId": "15827898341895760703"
          },
          "user_tz": -345
        },
        "id": "d1QiyNZYjnu2",
        "outputId": "0b555c39-b684-4476-9fe6-7a1ff0f07bbb"
      },
      "outputs": [
        {
          "name": "stderr",
          "output_type": "stream",
          "text": [
            "/usr/local/lib/python3.11/dist-packages/huggingface_hub/utils/_auth.py:94: UserWarning: \n",
            "The secret `HF_TOKEN` does not exist in your Colab secrets.\n",
            "To authenticate with the Hugging Face Hub, create a token in your settings tab (https://huggingface.co/settings/tokens), set it as secret in your Google Colab and restart your session.\n",
            "You will be able to reuse this secret in all of your notebooks.\n",
            "Please note that authentication is recommended but still optional to access public models or datasets.\n",
            "  warnings.warn(\n"
          ]
        },
        {
          "data": {
            "application/vnd.jupyter.widget-view+json": {
              "model_id": "91c20bf007ca472cb8e03ff87a5ed15a",
              "version_major": 2,
              "version_minor": 0
            },
            "text/plain": [
              "README.md: 0.00B [00:00, ?B/s]"
            ]
          },
          "metadata": {},
          "output_type": "display_data"
        },
        {
          "data": {
            "application/vnd.jupyter.widget-view+json": {
              "model_id": "bab6a21032b24da49b6a288b71176137",
              "version_major": 2,
              "version_minor": 0
            },
            "text/plain": [
              "openai_humaneval/test-00000-of-00001.par(…):   0%|          | 0.00/83.9k [00:00<?, ?B/s]"
            ]
          },
          "metadata": {},
          "output_type": "display_data"
        },
        {
          "data": {
            "application/vnd.jupyter.widget-view+json": {
              "model_id": "623a7a99ea564071bde9373c7a7c0678",
              "version_major": 2,
              "version_minor": 0
            },
            "text/plain": [
              "Generating test split:   0%|          | 0/164 [00:00<?, ? examples/s]"
            ]
          },
          "metadata": {},
          "output_type": "display_data"
        }
      ],
      "source": [
        "from datasets import load_dataset\n",
        "\n",
        "data = load_dataset(\"openai_humaneval\", split=\"test\")"
      ]
    },
    {
      "cell_type": "code",
      "execution_count": 4,
      "metadata": {
        "colab": {
          "base_uri": "https://localhost:8080/"
        },
        "executionInfo": {
          "elapsed": 6,
          "status": "ok",
          "timestamp": 1754371975532,
          "user": {
            "displayName": "Utsab Dahal",
            "userId": "15827898341895760703"
          },
          "user_tz": -345
        },
        "id": "uRsFetGPZJTd",
        "outputId": "730d1407-80cf-45ab-e6e1-757013cf8fe4"
      },
      "outputs": [
        {
          "data": {
            "text/plain": [
              "Dataset({\n",
              "    features: ['task_id', 'prompt', 'canonical_solution', 'test', 'entry_point'],\n",
              "    num_rows: 164\n",
              "})"
            ]
          },
          "execution_count": 4,
          "metadata": {},
          "output_type": "execute_result"
        }
      ],
      "source": [
        "data"
      ]
    },
    {
      "cell_type": "code",
      "execution_count": 5,
      "metadata": {
        "colab": {
          "base_uri": "https://localhost:8080/",
          "height": 401,
          "referenced_widgets": [
            "b4877149ad894b18ab4c75dccbae5318",
            "d1e0348b24af4ccb933ae4910e38c397",
            "5e24b226da024c7b9f700cd50b325c62",
            "1144ce19e4074fa8951ce5345dcb162d",
            "a75ff88d7c2d41198d3a0e540367c55b",
            "3aa00d63a6244524a9944256dbeb2ef2",
            "66ba624c28474c21b0dca0ec51f64cdc",
            "06fdc198231746309e91cc87e4532918",
            "749cdb3cfe9845a7941279d710183e8a",
            "316655e6844b442d900f5b2ad3eaa458",
            "dcf0babf4ded45c5994d2910baee7f89",
            "f37913e8873a4539af4d22c6505edcc5",
            "7477373d2be1485cb93ebf7bab49abe1",
            "4aa8a53441624f92ba4555fb816705cb",
            "ddc288f44cec4db4a0e69d2a90caef3b",
            "f411553960044cafaf6ae2c537019e36",
            "04db550b0a4e4cc2b93b3e604510784c",
            "03b85b3d08e14fa48370b7621feb234d",
            "0fc7b75133e0436dbe2d076547720039",
            "b072eae83419444b94dd2016c3d8bf15",
            "bdac13db7da74d2dab3b5a50b0cf05e3",
            "6b0ac786aa344197b4696649504368c0",
            "ade4a417fe37411caf684d156942e5d4",
            "7f4380a8dfe4481f8193b59fed2b9a59",
            "ee965d93430244cd9713d91918769c71",
            "9b8efa54b29c4e35a08b7419a62202d8",
            "8da2c5ead3214195ab135284b2ab29f4",
            "231e34debf71496b915117b9d0df7848",
            "ed83c26524ee4fe6807541efc9cc2ad2",
            "e60817523cce46dba5ab5453875a5570",
            "3e3b567c17cb41208022d1b2cbf09540",
            "9a5f01ca009842d280516b5240750b32",
            "a95de50031154a6dacc6d6f74dbe1b53",
            "6fbb70b227654c84a7bb1e8ef54a36a4",
            "fa24b80418934e66a813be4f9d7d837e",
            "6dbd777027d94ec8a855be8f6fa6e1ed",
            "7d8c1053d93642c39a76e6772d38b6c3",
            "2d115deb56af4cc388e4f92161058fdb",
            "34b0bbe967794a95b2a4cc4a9e0518fb",
            "6a73f240c8364d6ebd72bbec9a4202f0",
            "fc07785b11354648ac2ea54b5e0c1c1d",
            "327eb9576ac84aec9a09b4f17b3ec040",
            "4f9d7ba32f71494da72ba8b4e263940d",
            "f5a45cf0277a4ff3a49fc5b633f95aac",
            "84e6086f6a664acab155be6975d1dd41",
            "69da50c3d4f845a0a26d38e02277bba4",
            "74ca6cad174c4a8db26438217d178e6c",
            "9c19ff4ad67244f5abc8e55a44dc66e2",
            "19f554ed3d15418b8cb7e24e77250ecd",
            "6aaa30f69cfd46e586049e5385c3b6b7",
            "14087159a8ad432f88f74218c96f7a4c",
            "af2322889eb64bd097a6f5c1dd93c4e3",
            "67e73588c5dd49309dc951beefe50faa",
            "d7c280e905ab425680847fc7f03a3346",
            "884512ce672744b7b246fcd3a0fa1973",
            "38e7af4bb8e24822923d28c0228bd28a",
            "a3d46577463b46ec975fb89c325cbb6e",
            "fb91caf479f946f6ba9bf0d179691cbd",
            "0b740b3380a84478a389450cf85850ad",
            "cd476d02656545048fb277ce3b22fef0",
            "668ab2d7dbb64c79952c223ef550346d",
            "b7f7aaf1ad924e039e63cc7ce3cf1f4a",
            "7b6a23a470cc45acbfdd3c3e9acedf9d",
            "483dd049de4a4a618f5a4d47fbdf89a8",
            "3d68bb7f68eb45adb06e89c1443a0ad9",
            "50bed335861a43d9a9447a3f0886655f",
            "bb8eb5598c3744829b320e622b3faf50",
            "c378641b5630477db13aa4bc60730d3f",
            "42f28b8e72634727ba30500e2afed1ec",
            "fa005b51f32c4f8d8348efd7e1b0e3ec",
            "4558b1005c074a90aba9acce51f18389",
            "e6a40d734d45408a8c7612ae304290d9",
            "972e96df4ce946f3b15aa5914786647e",
            "fb023248ec08437d8c50aa83266eb196",
            "8d126aad14174778b08be4d97058852d",
            "4de6dc7f902148ebb1aead20b06e23a9",
            "b6ae80bb8df7489fbbd402986b2961b1",
            "22ec003822c548f58f07005c91f406c9",
            "22272af190644802bb81eb42a8c52c86",
            "0fdb829a53514af398ae7b32bc705506",
            "015b5a6329734f308166844ba54553e1",
            "add240926f77442d8a58201adce8fb94",
            "7797be35b4cf4cb7be368c8b21e63a9c",
            "92960c8de036434a9b5f5f98d3c4fd36",
            "59e46e4733f14a07b763fa206c831830",
            "5aeb7d7df1f64b4dba0e7af425cc19a8",
            "44d542947d9d4da4b884c540b1fa0352",
            "8ad3691c891f45aeb4c813886f8fd783",
            "42c7b7c0542f4d2f943be7323761b996",
            "a3b4a4c478d644f19c1566a2e7d4bed3",
            "0cbc39f135a44e9389dd82c6a250e853",
            "56efaf11487f4c768bec3dfca2c7abaa",
            "eeb7fe4a3d4b461a8059d605cd276f8b",
            "c1158bf0db3049c8ba10dada11d61aa2",
            "0871f187cc5c4d9888b2d59f8272e08a",
            "88ca58e6539446c2abb92de180e1c757",
            "d712db790383438187863be36a2694d0",
            "e6f55ba65a7b4bd9b970c0d7c8fe175c",
            "d6ba1fc433884c17a934ebcf4e661623",
            "9683735d5714473cb8c36e40a9295113",
            "aca1781115da44dc8f860f39faa7686d",
            "547642a8c91c44ac8cff690a04cd957a",
            "bd6e8bd08a2446338e22664dc5303d0d",
            "befe5d26ef2d4af2b2d09800774dcd1e",
            "ab5880c809a840b8bf0b82037b245a5d",
            "0665e8f276804a1faba6d2f8c9e78084",
            "5c87ba1be2f8431c829ef4eb20d44ecc",
            "242aca613b15440e859082ddc0f398b2",
            "96abcff24d8640558417f711b24cb0d2",
            "a97a70b86d4644618d549bf6525c11d7",
            "32fd8257ec8d4950b949e6e7b1da6c64",
            "254e2476b3b34e418619dbf9e02e3cdf",
            "51c44c1ca7674345b80dbed8670691df",
            "b54a6d87cea64f2b87fd43939a453ba5",
            "37f8d67af7894ac7a829e79c5a7d5c93",
            "b26ab3f270b1456fa9a56718dc26d635",
            "9cc70250a2d74597acc07bc8de0fbee9",
            "cd13f7531c7544d5bd9326792da18701",
            "86b7fc51943a4887b3c14224e587b64c",
            "baed523272184381839903e30b822e30",
            "5ab62ee9707c41a68e265f4339983a5d",
            "6a65bd897ede4b4186764af954dc9426",
            "e2470d7ebb904152bf8d5ce9fae05706",
            "cba92dcb925d4dd2807bf69ecc12f06c",
            "768237d31c8d46fcba97d8202f890b41",
            "2ef5a4d134694c00a9369fd4ad97b602",
            "fe376477bac34fc8acfb22bcddb82f70",
            "3e1cdefd6eb7484583c468f8eea36ed4",
            "c658d395fc0548df89d6186e02f604d4",
            "26cff4a455a142e78571289b8dc652cc",
            "29fdf8a9462d49319500eb2925482ed2",
            "2302902e02bf4d8b95fcb41d20b1433b"
          ]
        },
        "executionInfo": {
          "elapsed": 915698,
          "status": "ok",
          "timestamp": 1754372918535,
          "user": {
            "displayName": "Utsab Dahal",
            "userId": "15827898341895760703"
          },
          "user_tz": -345
        },
        "id": "QFRAu6Dysupj",
        "outputId": "03b5b6cc-428e-4dd1-80e8-5c5cb67bc46f"
      },
      "outputs": [
        {
          "data": {
            "application/vnd.jupyter.widget-view+json": {
              "model_id": "b4877149ad894b18ab4c75dccbae5318",
              "version_major": 2,
              "version_minor": 0
            },
            "text/plain": [
              "config.json:   0%|          | 0.00/654 [00:00<?, ?B/s]"
            ]
          },
          "metadata": {},
          "output_type": "display_data"
        },
        {
          "data": {
            "application/vnd.jupyter.widget-view+json": {
              "model_id": "f37913e8873a4539af4d22c6505edcc5",
              "version_major": 2,
              "version_minor": 0
            },
            "text/plain": [
              "model.safetensors.index.json:   0%|          | 0.00/23.9k [00:00<?, ?B/s]"
            ]
          },
          "metadata": {},
          "output_type": "display_data"
        },
        {
          "data": {
            "application/vnd.jupyter.widget-view+json": {
              "model_id": "ade4a417fe37411caf684d156942e5d4",
              "version_major": 2,
              "version_minor": 0
            },
            "text/plain": [
              "Fetching 4 files:   0%|          | 0/4 [00:00<?, ?it/s]"
            ]
          },
          "metadata": {},
          "output_type": "display_data"
        },
        {
          "data": {
            "application/vnd.jupyter.widget-view+json": {
              "model_id": "6fbb70b227654c84a7bb1e8ef54a36a4",
              "version_major": 2,
              "version_minor": 0
            },
            "text/plain": [
              "model-00002-of-00004.safetensors:   0%|          | 0.00/5.00G [00:00<?, ?B/s]"
            ]
          },
          "metadata": {},
          "output_type": "display_data"
        },
        {
          "data": {
            "application/vnd.jupyter.widget-view+json": {
              "model_id": "84e6086f6a664acab155be6975d1dd41",
              "version_major": 2,
              "version_minor": 0
            },
            "text/plain": [
              "model-00001-of-00004.safetensors:   0%|          | 0.00/4.98G [00:00<?, ?B/s]"
            ]
          },
          "metadata": {},
          "output_type": "display_data"
        },
        {
          "data": {
            "application/vnd.jupyter.widget-view+json": {
              "model_id": "38e7af4bb8e24822923d28c0228bd28a",
              "version_major": 2,
              "version_minor": 0
            },
            "text/plain": [
              "model-00004-of-00004.safetensors:   0%|          | 0.00/1.17G [00:00<?, ?B/s]"
            ]
          },
          "metadata": {},
          "output_type": "display_data"
        },
        {
          "data": {
            "application/vnd.jupyter.widget-view+json": {
              "model_id": "bb8eb5598c3744829b320e622b3faf50",
              "version_major": 2,
              "version_minor": 0
            },
            "text/plain": [
              "model-00003-of-00004.safetensors:   0%|          | 0.00/4.92G [00:00<?, ?B/s]"
            ]
          },
          "metadata": {},
          "output_type": "display_data"
        },
        {
          "data": {
            "application/vnd.jupyter.widget-view+json": {
              "model_id": "22ec003822c548f58f07005c91f406c9",
              "version_major": 2,
              "version_minor": 0
            },
            "text/plain": [
              "Loading checkpoint shards:   0%|          | 0/4 [00:00<?, ?it/s]"
            ]
          },
          "metadata": {},
          "output_type": "display_data"
        },
        {
          "data": {
            "application/vnd.jupyter.widget-view+json": {
              "model_id": "42c7b7c0542f4d2f943be7323761b996",
              "version_major": 2,
              "version_minor": 0
            },
            "text/plain": [
              "generation_config.json:   0%|          | 0.00/187 [00:00<?, ?B/s]"
            ]
          },
          "metadata": {},
          "output_type": "display_data"
        },
        {
          "data": {
            "application/vnd.jupyter.widget-view+json": {
              "model_id": "9683735d5714473cb8c36e40a9295113",
              "version_major": 2,
              "version_minor": 0
            },
            "text/plain": [
              "tokenizer_config.json:   0%|          | 0.00/51.0k [00:00<?, ?B/s]"
            ]
          },
          "metadata": {},
          "output_type": "display_data"
        },
        {
          "data": {
            "application/vnd.jupyter.widget-view+json": {
              "model_id": "32fd8257ec8d4950b949e6e7b1da6c64",
              "version_major": 2,
              "version_minor": 0
            },
            "text/plain": [
              "tokenizer.json:   0%|          | 0.00/9.09M [00:00<?, ?B/s]"
            ]
          },
          "metadata": {},
          "output_type": "display_data"
        },
        {
          "data": {
            "application/vnd.jupyter.widget-view+json": {
              "model_id": "6a65bd897ede4b4186764af954dc9426",
              "version_major": 2,
              "version_minor": 0
            },
            "text/plain": [
              "special_tokens_map.json:   0%|          | 0.00/73.0 [00:00<?, ?B/s]"
            ]
          },
          "metadata": {},
          "output_type": "display_data"
        }
      ],
      "source": [
        "from transformers import AutoTokenizer, AutoModelForCausalLM, BitsAndBytesConfig\n",
        "from peft import prepare_model_for_kbit_training\n",
        "import torch\n",
        "\n",
        "model_name = \"meta-llama/Meta-Llama-3-8B-Instruct\"\n",
        "\n",
        "\n",
        "# bits and bytes configuration\n",
        "bnb_config = BitsAndBytesConfig(\n",
        "    load_in_4bit=True,\n",
        "    bnb_4bit_quant_type=\"nf4\",\n",
        "    bnb_4bit_use_double_quant=True,\n",
        "    bnb_4bit_compute_dtype=torch.bfloat16,\n",
        ")\n",
        "\n",
        "#load the model\n",
        "model = AutoModelForCausalLM.from_pretrained(model_name, quantization_config=bnb_config, device_map=\"auto\")\n",
        "\n",
        "\n",
        "model = prepare_model_for_kbit_training(model)\n",
        "\n",
        "\n",
        "# load tokenizer for llama3\n",
        "tokenizer = AutoTokenizer.from_pretrained(model_name)\n",
        "tokenizer.pad_token = tokenizer.eos_token"
      ]
    },
    {
      "cell_type": "code",
      "execution_count": 6,
      "metadata": {
        "colab": {
          "base_uri": "https://localhost:8080/",
          "height": 49,
          "referenced_widgets": [
            "937c18b7bdc74bb89231b4ca980d19a9",
            "960a5d52fd8749c69584f67420bd34ff",
            "a74f3336a1c64a5aa151bb0f1bb5e273",
            "8d58e1b92029479c9b9b62da1ab0ea58",
            "d6bf1b5187584105902ae425527102ab",
            "c935acf6fcbc42ef9041bfeebaf3aff3",
            "02754cadb59449178af637426f45a2a5",
            "d9dc72163eda40ee9d5cd0839613d3bf",
            "87d054209bb94de6b90f9ae14b7adb4c",
            "078d9d0973da4630b4131ec5b9ebe5ed",
            "381a223581ee401983489f26f99b63f8"
          ]
        },
        "executionInfo": {
          "elapsed": 160,
          "status": "ok",
          "timestamp": 1754372958108,
          "user": {
            "displayName": "Utsab Dahal",
            "userId": "15827898341895760703"
          },
          "user_tz": -345
        },
        "id": "r-oM-CExcAl5",
        "outputId": "d8f38fa8-c5be-45ca-eff8-ec98cf6f4b9d"
      },
      "outputs": [
        {
          "data": {
            "application/vnd.jupyter.widget-view+json": {
              "model_id": "937c18b7bdc74bb89231b4ca980d19a9",
              "version_major": 2,
              "version_minor": 0
            },
            "text/plain": [
              "Map:   0%|          | 0/164 [00:00<?, ? examples/s]"
            ]
          },
          "metadata": {},
          "output_type": "display_data"
        }
      ],
      "source": [
        "def format_humaneval(example):\n",
        "    return {\"text\": example[\"prompt\"] + example[\"canonical_solution\"]}\n",
        "\n",
        "\n",
        "# apply formatting to your dataset\n",
        "formatted_dataset = data.map(format_humaneval, remove_columns=data.column_names)"
      ]
    },
    {
      "cell_type": "code",
      "execution_count": 7,
      "metadata": {
        "executionInfo": {
          "elapsed": 14,
          "status": "ok",
          "timestamp": 1754372960839,
          "user": {
            "displayName": "Utsab Dahal",
            "userId": "15827898341895760703"
          },
          "user_tz": -345
        },
        "id": "39RhQXu_AbsR"
      },
      "outputs": [],
      "source": [
        "from peft import LoraConfig\n",
        "\n",
        "# LoRA configuration\n",
        "peft_config = LoraConfig(\n",
        "    r=8,\n",
        "    lora_alpha=32,\n",
        "    target_modules=[\"q_proj\", \"k_proj\", \"v_proj\", \"o_proj\"],\n",
        "    lora_dropout=0.05,\n",
        "    task_type=\"CAUSAL_LM\"\n",
        ")"
      ]
    },
    {
      "cell_type": "code",
      "execution_count": 8,
      "metadata": {
        "executionInfo": {
          "elapsed": 6,
          "status": "ok",
          "timestamp": 1754372962700,
          "user": {
            "displayName": "Utsab Dahal",
            "userId": "15827898341895760703"
          },
          "user_tz": -345
        },
        "id": "Md3jRmWjdUR0"
      },
      "outputs": [],
      "source": [
        "torch.cuda.empty_cache()"
      ]
    },
    {
      "cell_type": "code",
      "execution_count": 9,
      "metadata": {
        "colab": {
          "base_uri": "https://localhost:8080/",
          "height": 220,
          "referenced_widgets": [
            "bdc64dc89bdb479c8703c5063f54cdb6",
            "b70928a82c854605969edea2ea307a24",
            "2052445e90d64de48f6591dc3b5af54d",
            "c1d6223470864793ba881727dd49ac84",
            "ac8a0a79ba054df7ab0ddd37f00ff817",
            "85686630a2464000b1fffd95200c8eb1",
            "f3464d09059748588ea2d107d24ab580",
            "e5fd7aa6cc3745cdb06819934638c0d2",
            "13b03c274ee9498d92806fff110269b6",
            "bd19443e631a4f7899f605b43e0d3557",
            "18e492a53915485d8c6b0c49b91a2aca",
            "0396d4576dbd4a9fbb6d206d78516e29",
            "d12f6addd810425e923f77df05f3a215",
            "6937d47d4ead4b60a40be233eb19dbf3",
            "1c9a013391274a599d8993a1cfcaef0d",
            "86553a0e7247438ea9c6060057bdd23e",
            "db534f2c15d64ea8886e6489086c3220",
            "e0229f7fec5643ed883562633906cab6",
            "b02d220b4c2342f6b524c7064349308e",
            "e1570e73575f4ca2b8ef7d2e06b6814b",
            "1938d50442c448c699f0fdcab7431a2a",
            "9a240b3fc66640f8b7b15686b187f7ed",
            "f4cd39d1e3944471bf3f5bcaa7a7ed7e",
            "2264b13d07604d68ba867674bf731012",
            "5e6647789ed04f8898fd4b7ae0cc71cb",
            "ff312949ec714850abbf253a5eb54354",
            "9f57c5f7258748f2abf88e5f01378a9b",
            "e787cc76f6184062a4d3522f81b64db1",
            "92d962727eaa4937911a6185a53cd6f8",
            "835c79efdc8b4bf088c7c86c8ab6b030",
            "c79fb7e0d076488a83b3cf6b7c958ba0",
            "4b369081ce5a41cb8d2d755b202b122c",
            "85fe3c7452aa49f3b8cc5128089e380d"
          ]
        },
        "executionInfo": {
          "elapsed": 2271,
          "status": "ok",
          "timestamp": 1754372970970,
          "user": {
            "displayName": "Utsab Dahal",
            "userId": "15827898341895760703"
          },
          "user_tz": -345
        },
        "id": "ZjX_U9xsDE8s",
        "outputId": "13ae4e11-1b29-4433-fe99-93480f803826"
      },
      "outputs": [
        {
          "name": "stderr",
          "output_type": "stream",
          "text": [
            "/usr/local/lib/python3.11/dist-packages/trl/trainer/sft_trainer.py:449: UserWarning: Padding-free training is enabled, but the attention implementation is not set to 'flash_attention_2'. Padding-free training flattens batches into a single sequence, and 'flash_attention_2' is the only known attention mechanism that reliably supports this. Using other implementations may lead to unexpected behavior. To ensure compatibility, set `attn_implementation='flash_attention_2'` in the model configuration, or verify that your attention mechanism can handle flattened sequences.\n",
            "  warnings.warn(\n",
            "/usr/local/lib/python3.11/dist-packages/trl/trainer/sft_trainer.py:495: UserWarning: You are using packing, but the attention implementation is not set to 'flash_attention_2'. Packing flattens batches into a single sequence, and 'flash_attention_2' is the only known attention mechanism that reliably supports this. Using other implementations may lead to cross-contamination between batches. To avoid this, either disable packing by setting `packing=False`, or set `attn_implementation='flash_attention_2'` in the model configuration.\n",
            "  warnings.warn(\n"
          ]
        },
        {
          "data": {
            "application/vnd.jupyter.widget-view+json": {
              "model_id": "bdc64dc89bdb479c8703c5063f54cdb6",
              "version_major": 2,
              "version_minor": 0
            },
            "text/plain": [
              "Adding EOS to train dataset:   0%|          | 0/164 [00:00<?, ? examples/s]"
            ]
          },
          "metadata": {},
          "output_type": "display_data"
        },
        {
          "data": {
            "application/vnd.jupyter.widget-view+json": {
              "model_id": "0396d4576dbd4a9fbb6d206d78516e29",
              "version_major": 2,
              "version_minor": 0
            },
            "text/plain": [
              "Tokenizing train dataset:   0%|          | 0/164 [00:00<?, ? examples/s]"
            ]
          },
          "metadata": {},
          "output_type": "display_data"
        },
        {
          "data": {
            "application/vnd.jupyter.widget-view+json": {
              "model_id": "f4cd39d1e3944471bf3f5bcaa7a7ed7e",
              "version_major": 2,
              "version_minor": 0
            },
            "text/plain": [
              "Packing train dataset:   0%|          | 0/164 [00:00<?, ? examples/s]"
            ]
          },
          "metadata": {},
          "output_type": "display_data"
        },
        {
          "name": "stderr",
          "output_type": "stream",
          "text": [
            "No label_names provided for model class `PeftModelForCausalLM`. Since `PeftModel` hides base models input arguments, if label_names is not given, label_names can't be set automatically within `Trainer`. Note that empty label_names list will be used instead.\n"
          ]
        }
      ],
      "source": [
        "from trl import SFTTrainer, SFTConfig\n",
        "\n",
        "# define the training arguments\n",
        "sft_args = SFTConfig(\n",
        "    output_dir=\"content/drive/MyDrive/llama3-finetune-8B-instruct/outputs/adapter_model/\",\n",
        "    num_train_epochs=2,\n",
        "    per_device_train_batch_size=1,\n",
        "    gradient_accumulation_steps=8,\n",
        "    gradient_checkpointing=True,\n",
        "    learning_rate=2e-4,\n",
        "    logging_steps=5,\n",
        "    optim=\"paged_adamw_8bit\",\n",
        "    save_strategy=\"epoch\",\n",
        "    bf16=True,\n",
        "    report_to=\"none\",\n",
        "    max_length=128,\n",
        "    packing=True\n",
        ")\n",
        "\n",
        "# initialize the SFTTrainer\n",
        "trainer = SFTTrainer(\n",
        "    model=model,\n",
        "    train_dataset=formatted_dataset,\n",
        "    peft_config=peft_config,\n",
        "    args=sft_args,\n",
        "    processing_class=tokenizer\n",
        ")"
      ]
    },
    {
      "cell_type": "code",
      "execution_count": 10,
      "metadata": {
        "colab": {
          "base_uri": "https://localhost:8080/"
        },
        "executionInfo": {
          "elapsed": 6,
          "status": "ok",
          "timestamp": 1754372973453,
          "user": {
            "displayName": "Utsab Dahal",
            "userId": "15827898341895760703"
          },
          "user_tz": -345
        },
        "id": "SRTR4Ml3P94Q",
        "outputId": "16f72d11-d13f-44bb-88c8-522c33683a9a"
      },
      "outputs": [
        {
          "name": "stdout",
          "output_type": "stream",
          "text": [
            "GPU memory after model loading: 5.34 GB\n"
          ]
        }
      ],
      "source": [
        "print(f\"GPU memory after model loading: {torch.cuda.memory_allocated()/1024**3:.2f} GB\")"
      ]
    },
    {
      "cell_type": "code",
      "execution_count": 11,
      "metadata": {
        "colab": {
          "base_uri": "https://localhost:8080/",
          "height": 361
        },
        "executionInfo": {
          "elapsed": 1352654,
          "status": "ok",
          "timestamp": 1754374327921,
          "user": {
            "displayName": "Utsab Dahal",
            "userId": "15827898341895760703"
          },
          "user_tz": -345
        },
        "id": "-JJoAc8-J9Hb",
        "outputId": "3d52dd9a-687a-4b79-e69d-2b36e120e2f6"
      },
      "outputs": [
        {
          "name": "stderr",
          "output_type": "stream",
          "text": [
            "`use_cache=True` is incompatible with gradient checkpointing. Setting `use_cache=False`.\n"
          ]
        },
        {
          "data": {
            "text/html": [
              "\n",
              "    <div>\n",
              "      \n",
              "      <progress value='40' max='40' style='width:300px; height:20px; vertical-align: middle;'></progress>\n",
              "      [40/40 21:57, Epoch 2/2]\n",
              "    </div>\n",
              "    <table border=\"1\" class=\"dataframe\">\n",
              "  <thead>\n",
              " <tr style=\"text-align: left;\">\n",
              "      <th>Step</th>\n",
              "      <th>Training Loss</th>\n",
              "    </tr>\n",
              "  </thead>\n",
              "  <tbody>\n",
              "    <tr>\n",
              "      <td>5</td>\n",
              "      <td>1.524800</td>\n",
              "    </tr>\n",
              "    <tr>\n",
              "      <td>10</td>\n",
              "      <td>1.293100</td>\n",
              "    </tr>\n",
              "    <tr>\n",
              "      <td>15</td>\n",
              "      <td>1.334700</td>\n",
              "    </tr>\n",
              "    <tr>\n",
              "      <td>20</td>\n",
              "      <td>1.320200</td>\n",
              "    </tr>\n",
              "    <tr>\n",
              "      <td>25</td>\n",
              "      <td>1.174300</td>\n",
              "    </tr>\n",
              "    <tr>\n",
              "      <td>30</td>\n",
              "      <td>1.127700</td>\n",
              "    </tr>\n",
              "    <tr>\n",
              "      <td>35</td>\n",
              "      <td>1.180000</td>\n",
              "    </tr>\n",
              "    <tr>\n",
              "      <td>40</td>\n",
              "      <td>1.146900</td>\n",
              "    </tr>\n",
              "  </tbody>\n",
              "</table><p>"
            ],
            "text/plain": [
              "<IPython.core.display.HTML object>"
            ]
          },
          "metadata": {},
          "output_type": "display_data"
        },
        {
          "name": "stdout",
          "output_type": "stream",
          "text": [
            "Training completed and model saved!\n"
          ]
        }
      ],
      "source": [
        "trainer.train()"
      ]
    },
    {
      "cell_type": "code",
      "execution_count": 21,
      "metadata": {
        "colab": {
          "base_uri": "https://localhost:8080/"
        },
        "executionInfo": {
          "elapsed": 919,
          "status": "ok",
          "timestamp": 1754374940114,
          "user": {
            "displayName": "Utsab Dahal",
            "userId": "15827898341895760703"
          },
          "user_tz": -345
        },
        "id": "6W2DZidu3pL7",
        "outputId": "3c89eb97-9a20-430a-c4fe-842357205b65"
      },
      "outputs": [
        {
          "data": {
            "text/plain": [
              "('/content/drive/MyDrive/llama3-finetune-8B-instruct/outputs/adapter_model/tokenizer_config.json',\n",
              " '/content/drive/MyDrive/llama3-finetune-8B-instruct/outputs/adapter_model/special_tokens_map.json',\n",
              " '/content/drive/MyDrive/llama3-finetune-8B-instruct/outputs/adapter_model/chat_template.jinja',\n",
              " '/content/drive/MyDrive/llama3-finetune-8B-instruct/outputs/adapter_model/tokenizer.json')"
            ]
          },
          "execution_count": 21,
          "metadata": {},
          "output_type": "execute_result"
        }
      ],
      "source": [
        "trainer.model.save_pretrained(\"/content/drive/MyDrive/llama3-finetune-8B-instruct/outputs/adapter_model/\")\n",
        "tokenizer.save_pretrained(\"/content/drive/MyDrive/llama3-finetune-8B-instruct/outputs/adapter_model/\")"
      ]
    },
    {
      "cell_type": "code",
      "execution_count": 34,
      "metadata": {
        "colab": {
          "base_uri": "https://localhost:8080/"
        },
        "executionInfo": {
          "elapsed": 329,
          "status": "ok",
          "timestamp": 1754376850722,
          "user": {
            "displayName": "Utsab Dahal",
            "userId": "15827898341895760703"
          },
          "user_tz": -345
        },
        "id": "VYBmWNHH7hMU",
        "outputId": "5817e044-0dba-4819-c097-fe61e9b233ac"
      },
      "outputs": [
        {
          "name": "stderr",
          "output_type": "stream",
          "text": [
            "/usr/local/lib/python3.11/dist-packages/peft/tuners/tuners_utils.py:190: UserWarning: Already found a `peft_config` attribute in the model. This will lead to having multiple adapters in the model. Make sure to know what you are doing!\n",
            "  warnings.warn(\n",
            "/usr/local/lib/python3.11/dist-packages/peft/peft_model.py:585: UserWarning: Found missing adapter keys while loading the checkpoint: ['base_model.model.base_model.model.model.layers.0.self_attn.q_proj.lora_A.default.weight', 'base_model.model.base_model.model.model.layers.0.self_attn.q_proj.lora_B.default.weight', 'base_model.model.base_model.model.model.layers.0.self_attn.k_proj.lora_A.default.weight', 'base_model.model.base_model.model.model.layers.0.self_attn.k_proj.lora_B.default.weight', 'base_model.model.base_model.model.model.layers.0.self_attn.v_proj.lora_A.default.weight', 'base_model.model.base_model.model.model.layers.0.self_attn.v_proj.lora_B.default.weight', 'base_model.model.base_model.model.model.layers.0.self_attn.o_proj.lora_A.default.weight', 'base_model.model.base_model.model.model.layers.0.self_attn.o_proj.lora_B.default.weight', 'base_model.model.base_model.model.model.layers.1.self_attn.q_proj.lora_A.default.weight', 'base_model.model.base_model.model.model.layers.1.self_attn.q_proj.lora_B.default.weight', 'base_model.model.base_model.model.model.layers.1.self_attn.k_proj.lora_A.default.weight', 'base_model.model.base_model.model.model.layers.1.self_attn.k_proj.lora_B.default.weight', 'base_model.model.base_model.model.model.layers.1.self_attn.v_proj.lora_A.default.weight', 'base_model.model.base_model.model.model.layers.1.self_attn.v_proj.lora_B.default.weight', 'base_model.model.base_model.model.model.layers.1.self_attn.o_proj.lora_A.default.weight', 'base_model.model.base_model.model.model.layers.1.self_attn.o_proj.lora_B.default.weight', 'base_model.model.base_model.model.model.layers.2.self_attn.q_proj.lora_A.default.weight', 'base_model.model.base_model.model.model.layers.2.self_attn.q_proj.lora_B.default.weight', 'base_model.model.base_model.model.model.layers.2.self_attn.k_proj.lora_A.default.weight', 'base_model.model.base_model.model.model.layers.2.self_attn.k_proj.lora_B.default.weight', 'base_model.model.base_model.model.model.layers.2.self_attn.v_proj.lora_A.default.weight', 'base_model.model.base_model.model.model.layers.2.self_attn.v_proj.lora_B.default.weight', 'base_model.model.base_model.model.model.layers.2.self_attn.o_proj.lora_A.default.weight', 'base_model.model.base_model.model.model.layers.2.self_attn.o_proj.lora_B.default.weight', 'base_model.model.base_model.model.model.layers.3.self_attn.q_proj.lora_A.default.weight', 'base_model.model.base_model.model.model.layers.3.self_attn.q_proj.lora_B.default.weight', 'base_model.model.base_model.model.model.layers.3.self_attn.k_proj.lora_A.default.weight', 'base_model.model.base_model.model.model.layers.3.self_attn.k_proj.lora_B.default.weight', 'base_model.model.base_model.model.model.layers.3.self_attn.v_proj.lora_A.default.weight', 'base_model.model.base_model.model.model.layers.3.self_attn.v_proj.lora_B.default.weight', 'base_model.model.base_model.model.model.layers.3.self_attn.o_proj.lora_A.default.weight', 'base_model.model.base_model.model.model.layers.3.self_attn.o_proj.lora_B.default.weight', 'base_model.model.base_model.model.model.layers.4.self_attn.q_proj.lora_A.default.weight', 'base_model.model.base_model.model.model.layers.4.self_attn.q_proj.lora_B.default.weight', 'base_model.model.base_model.model.model.layers.4.self_attn.k_proj.lora_A.default.weight', 'base_model.model.base_model.model.model.layers.4.self_attn.k_proj.lora_B.default.weight', 'base_model.model.base_model.model.model.layers.4.self_attn.v_proj.lora_A.default.weight', 'base_model.model.base_model.model.model.layers.4.self_attn.v_proj.lora_B.default.weight', 'base_model.model.base_model.model.model.layers.4.self_attn.o_proj.lora_A.default.weight', 'base_model.model.base_model.model.model.layers.4.self_attn.o_proj.lora_B.default.weight', 'base_model.model.base_model.model.model.layers.5.self_attn.q_proj.lora_A.default.weight', 'base_model.model.base_model.model.model.layers.5.self_attn.q_proj.lora_B.default.weight', 'base_model.model.base_model.model.model.layers.5.self_attn.k_proj.lora_A.default.weight', 'base_model.model.base_model.model.model.layers.5.self_attn.k_proj.lora_B.default.weight', 'base_model.model.base_model.model.model.layers.5.self_attn.v_proj.lora_A.default.weight', 'base_model.model.base_model.model.model.layers.5.self_attn.v_proj.lora_B.default.weight', 'base_model.model.base_model.model.model.layers.5.self_attn.o_proj.lora_A.default.weight', 'base_model.model.base_model.model.model.layers.5.self_attn.o_proj.lora_B.default.weight', 'base_model.model.base_model.model.model.layers.6.self_attn.q_proj.lora_A.default.weight', 'base_model.model.base_model.model.model.layers.6.self_attn.q_proj.lora_B.default.weight', 'base_model.model.base_model.model.model.layers.6.self_attn.k_proj.lora_A.default.weight', 'base_model.model.base_model.model.model.layers.6.self_attn.k_proj.lora_B.default.weight', 'base_model.model.base_model.model.model.layers.6.self_attn.v_proj.lora_A.default.weight', 'base_model.model.base_model.model.model.layers.6.self_attn.v_proj.lora_B.default.weight', 'base_model.model.base_model.model.model.layers.6.self_attn.o_proj.lora_A.default.weight', 'base_model.model.base_model.model.model.layers.6.self_attn.o_proj.lora_B.default.weight', 'base_model.model.base_model.model.model.layers.7.self_attn.q_proj.lora_A.default.weight', 'base_model.model.base_model.model.model.layers.7.self_attn.q_proj.lora_B.default.weight', 'base_model.model.base_model.model.model.layers.7.self_attn.k_proj.lora_A.default.weight', 'base_model.model.base_model.model.model.layers.7.self_attn.k_proj.lora_B.default.weight', 'base_model.model.base_model.model.model.layers.7.self_attn.v_proj.lora_A.default.weight', 'base_model.model.base_model.model.model.layers.7.self_attn.v_proj.lora_B.default.weight', 'base_model.model.base_model.model.model.layers.7.self_attn.o_proj.lora_A.default.weight', 'base_model.model.base_model.model.model.layers.7.self_attn.o_proj.lora_B.default.weight', 'base_model.model.base_model.model.model.layers.8.self_attn.q_proj.lora_A.default.weight', 'base_model.model.base_model.model.model.layers.8.self_attn.q_proj.lora_B.default.weight', 'base_model.model.base_model.model.model.layers.8.self_attn.k_proj.lora_A.default.weight', 'base_model.model.base_model.model.model.layers.8.self_attn.k_proj.lora_B.default.weight', 'base_model.model.base_model.model.model.layers.8.self_attn.v_proj.lora_A.default.weight', 'base_model.model.base_model.model.model.layers.8.self_attn.v_proj.lora_B.default.weight', 'base_model.model.base_model.model.model.layers.8.self_attn.o_proj.lora_A.default.weight', 'base_model.model.base_model.model.model.layers.8.self_attn.o_proj.lora_B.default.weight', 'base_model.model.base_model.model.model.layers.9.self_attn.q_proj.lora_A.default.weight', 'base_model.model.base_model.model.model.layers.9.self_attn.q_proj.lora_B.default.weight', 'base_model.model.base_model.model.model.layers.9.self_attn.k_proj.lora_A.default.weight', 'base_model.model.base_model.model.model.layers.9.self_attn.k_proj.lora_B.default.weight', 'base_model.model.base_model.model.model.layers.9.self_attn.v_proj.lora_A.default.weight', 'base_model.model.base_model.model.model.layers.9.self_attn.v_proj.lora_B.default.weight', 'base_model.model.base_model.model.model.layers.9.self_attn.o_proj.lora_A.default.weight', 'base_model.model.base_model.model.model.layers.9.self_attn.o_proj.lora_B.default.weight', 'base_model.model.base_model.model.model.layers.10.self_attn.q_proj.lora_A.default.weight', 'base_model.model.base_model.model.model.layers.10.self_attn.q_proj.lora_B.default.weight', 'base_model.model.base_model.model.model.layers.10.self_attn.k_proj.lora_A.default.weight', 'base_model.model.base_model.model.model.layers.10.self_attn.k_proj.lora_B.default.weight', 'base_model.model.base_model.model.model.layers.10.self_attn.v_proj.lora_A.default.weight', 'base_model.model.base_model.model.model.layers.10.self_attn.v_proj.lora_B.default.weight', 'base_model.model.base_model.model.model.layers.10.self_attn.o_proj.lora_A.default.weight', 'base_model.model.base_model.model.model.layers.10.self_attn.o_proj.lora_B.default.weight', 'base_model.model.base_model.model.model.layers.11.self_attn.q_proj.lora_A.default.weight', 'base_model.model.base_model.model.model.layers.11.self_attn.q_proj.lora_B.default.weight', 'base_model.model.base_model.model.model.layers.11.self_attn.k_proj.lora_A.default.weight', 'base_model.model.base_model.model.model.layers.11.self_attn.k_proj.lora_B.default.weight', 'base_model.model.base_model.model.model.layers.11.self_attn.v_proj.lora_A.default.weight', 'base_model.model.base_model.model.model.layers.11.self_attn.v_proj.lora_B.default.weight', 'base_model.model.base_model.model.model.layers.11.self_attn.o_proj.lora_A.default.weight', 'base_model.model.base_model.model.model.layers.11.self_attn.o_proj.lora_B.default.weight', 'base_model.model.base_model.model.model.layers.12.self_attn.q_proj.lora_A.default.weight', 'base_model.model.base_model.model.model.layers.12.self_attn.q_proj.lora_B.default.weight', 'base_model.model.base_model.model.model.layers.12.self_attn.k_proj.lora_A.default.weight', 'base_model.model.base_model.model.model.layers.12.self_attn.k_proj.lora_B.default.weight', 'base_model.model.base_model.model.model.layers.12.self_attn.v_proj.lora_A.default.weight', 'base_model.model.base_model.model.model.layers.12.self_attn.v_proj.lora_B.default.weight', 'base_model.model.base_model.model.model.layers.12.self_attn.o_proj.lora_A.default.weight', 'base_model.model.base_model.model.model.layers.12.self_attn.o_proj.lora_B.default.weight', 'base_model.model.base_model.model.model.layers.13.self_attn.q_proj.lora_A.default.weight', 'base_model.model.base_model.model.model.layers.13.self_attn.q_proj.lora_B.default.weight', 'base_model.model.base_model.model.model.layers.13.self_attn.k_proj.lora_A.default.weight', 'base_model.model.base_model.model.model.layers.13.self_attn.k_proj.lora_B.default.weight', 'base_model.model.base_model.model.model.layers.13.self_attn.v_proj.lora_A.default.weight', 'base_model.model.base_model.model.model.layers.13.self_attn.v_proj.lora_B.default.weight', 'base_model.model.base_model.model.model.layers.13.self_attn.o_proj.lora_A.default.weight', 'base_model.model.base_model.model.model.layers.13.self_attn.o_proj.lora_B.default.weight', 'base_model.model.base_model.model.model.layers.14.self_attn.q_proj.lora_A.default.weight', 'base_model.model.base_model.model.model.layers.14.self_attn.q_proj.lora_B.default.weight', 'base_model.model.base_model.model.model.layers.14.self_attn.k_proj.lora_A.default.weight', 'base_model.model.base_model.model.model.layers.14.self_attn.k_proj.lora_B.default.weight', 'base_model.model.base_model.model.model.layers.14.self_attn.v_proj.lora_A.default.weight', 'base_model.model.base_model.model.model.layers.14.self_attn.v_proj.lora_B.default.weight', 'base_model.model.base_model.model.model.layers.14.self_attn.o_proj.lora_A.default.weight', 'base_model.model.base_model.model.model.layers.14.self_attn.o_proj.lora_B.default.weight', 'base_model.model.base_model.model.model.layers.15.self_attn.q_proj.lora_A.default.weight', 'base_model.model.base_model.model.model.layers.15.self_attn.q_proj.lora_B.default.weight', 'base_model.model.base_model.model.model.layers.15.self_attn.k_proj.lora_A.default.weight', 'base_model.model.base_model.model.model.layers.15.self_attn.k_proj.lora_B.default.weight', 'base_model.model.base_model.model.model.layers.15.self_attn.v_proj.lora_A.default.weight', 'base_model.model.base_model.model.model.layers.15.self_attn.v_proj.lora_B.default.weight', 'base_model.model.base_model.model.model.layers.15.self_attn.o_proj.lora_A.default.weight', 'base_model.model.base_model.model.model.layers.15.self_attn.o_proj.lora_B.default.weight', 'base_model.model.base_model.model.model.layers.16.self_attn.q_proj.lora_A.default.weight', 'base_model.model.base_model.model.model.layers.16.self_attn.q_proj.lora_B.default.weight', 'base_model.model.base_model.model.model.layers.16.self_attn.k_proj.lora_A.default.weight', 'base_model.model.base_model.model.model.layers.16.self_attn.k_proj.lora_B.default.weight', 'base_model.model.base_model.model.model.layers.16.self_attn.v_proj.lora_A.default.weight', 'base_model.model.base_model.model.model.layers.16.self_attn.v_proj.lora_B.default.weight', 'base_model.model.base_model.model.model.layers.16.self_attn.o_proj.lora_A.default.weight', 'base_model.model.base_model.model.model.layers.16.self_attn.o_proj.lora_B.default.weight', 'base_model.model.base_model.model.model.layers.17.self_attn.q_proj.lora_A.default.weight', 'base_model.model.base_model.model.model.layers.17.self_attn.q_proj.lora_B.default.weight', 'base_model.model.base_model.model.model.layers.17.self_attn.k_proj.lora_A.default.weight', 'base_model.model.base_model.model.model.layers.17.self_attn.k_proj.lora_B.default.weight', 'base_model.model.base_model.model.model.layers.17.self_attn.v_proj.lora_A.default.weight', 'base_model.model.base_model.model.model.layers.17.self_attn.v_proj.lora_B.default.weight', 'base_model.model.base_model.model.model.layers.17.self_attn.o_proj.lora_A.default.weight', 'base_model.model.base_model.model.model.layers.17.self_attn.o_proj.lora_B.default.weight', 'base_model.model.base_model.model.model.layers.18.self_attn.q_proj.lora_A.default.weight', 'base_model.model.base_model.model.model.layers.18.self_attn.q_proj.lora_B.default.weight', 'base_model.model.base_model.model.model.layers.18.self_attn.k_proj.lora_A.default.weight', 'base_model.model.base_model.model.model.layers.18.self_attn.k_proj.lora_B.default.weight', 'base_model.model.base_model.model.model.layers.18.self_attn.v_proj.lora_A.default.weight', 'base_model.model.base_model.model.model.layers.18.self_attn.v_proj.lora_B.default.weight', 'base_model.model.base_model.model.model.layers.18.self_attn.o_proj.lora_A.default.weight', 'base_model.model.base_model.model.model.layers.18.self_attn.o_proj.lora_B.default.weight', 'base_model.model.base_model.model.model.layers.19.self_attn.q_proj.lora_A.default.weight', 'base_model.model.base_model.model.model.layers.19.self_attn.q_proj.lora_B.default.weight', 'base_model.model.base_model.model.model.layers.19.self_attn.k_proj.lora_A.default.weight', 'base_model.model.base_model.model.model.layers.19.self_attn.k_proj.lora_B.default.weight', 'base_model.model.base_model.model.model.layers.19.self_attn.v_proj.lora_A.default.weight', 'base_model.model.base_model.model.model.layers.19.self_attn.v_proj.lora_B.default.weight', 'base_model.model.base_model.model.model.layers.19.self_attn.o_proj.lora_A.default.weight', 'base_model.model.base_model.model.model.layers.19.self_attn.o_proj.lora_B.default.weight', 'base_model.model.base_model.model.model.layers.20.self_attn.q_proj.lora_A.default.weight', 'base_model.model.base_model.model.model.layers.20.self_attn.q_proj.lora_B.default.weight', 'base_model.model.base_model.model.model.layers.20.self_attn.k_proj.lora_A.default.weight', 'base_model.model.base_model.model.model.layers.20.self_attn.k_proj.lora_B.default.weight', 'base_model.model.base_model.model.model.layers.20.self_attn.v_proj.lora_A.default.weight', 'base_model.model.base_model.model.model.layers.20.self_attn.v_proj.lora_B.default.weight', 'base_model.model.base_model.model.model.layers.20.self_attn.o_proj.lora_A.default.weight', 'base_model.model.base_model.model.model.layers.20.self_attn.o_proj.lora_B.default.weight', 'base_model.model.base_model.model.model.layers.21.self_attn.q_proj.lora_A.default.weight', 'base_model.model.base_model.model.model.layers.21.self_attn.q_proj.lora_B.default.weight', 'base_model.model.base_model.model.model.layers.21.self_attn.k_proj.lora_A.default.weight', 'base_model.model.base_model.model.model.layers.21.self_attn.k_proj.lora_B.default.weight', 'base_model.model.base_model.model.model.layers.21.self_attn.v_proj.lora_A.default.weight', 'base_model.model.base_model.model.model.layers.21.self_attn.v_proj.lora_B.default.weight', 'base_model.model.base_model.model.model.layers.21.self_attn.o_proj.lora_A.default.weight', 'base_model.model.base_model.model.model.layers.21.self_attn.o_proj.lora_B.default.weight', 'base_model.model.base_model.model.model.layers.22.self_attn.q_proj.lora_A.default.weight', 'base_model.model.base_model.model.model.layers.22.self_attn.q_proj.lora_B.default.weight', 'base_model.model.base_model.model.model.layers.22.self_attn.k_proj.lora_A.default.weight', 'base_model.model.base_model.model.model.layers.22.self_attn.k_proj.lora_B.default.weight', 'base_model.model.base_model.model.model.layers.22.self_attn.v_proj.lora_A.default.weight', 'base_model.model.base_model.model.model.layers.22.self_attn.v_proj.lora_B.default.weight', 'base_model.model.base_model.model.model.layers.22.self_attn.o_proj.lora_A.default.weight', 'base_model.model.base_model.model.model.layers.22.self_attn.o_proj.lora_B.default.weight', 'base_model.model.base_model.model.model.layers.23.self_attn.q_proj.lora_A.default.weight', 'base_model.model.base_model.model.model.layers.23.self_attn.q_proj.lora_B.default.weight', 'base_model.model.base_model.model.model.layers.23.self_attn.k_proj.lora_A.default.weight', 'base_model.model.base_model.model.model.layers.23.self_attn.k_proj.lora_B.default.weight', 'base_model.model.base_model.model.model.layers.23.self_attn.v_proj.lora_A.default.weight', 'base_model.model.base_model.model.model.layers.23.self_attn.v_proj.lora_B.default.weight', 'base_model.model.base_model.model.model.layers.23.self_attn.o_proj.lora_A.default.weight', 'base_model.model.base_model.model.model.layers.23.self_attn.o_proj.lora_B.default.weight', 'base_model.model.base_model.model.model.layers.24.self_attn.q_proj.lora_A.default.weight', 'base_model.model.base_model.model.model.layers.24.self_attn.q_proj.lora_B.default.weight', 'base_model.model.base_model.model.model.layers.24.self_attn.k_proj.lora_A.default.weight', 'base_model.model.base_model.model.model.layers.24.self_attn.k_proj.lora_B.default.weight', 'base_model.model.base_model.model.model.layers.24.self_attn.v_proj.lora_A.default.weight', 'base_model.model.base_model.model.model.layers.24.self_attn.v_proj.lora_B.default.weight', 'base_model.model.base_model.model.model.layers.24.self_attn.o_proj.lora_A.default.weight', 'base_model.model.base_model.model.model.layers.24.self_attn.o_proj.lora_B.default.weight', 'base_model.model.base_model.model.model.layers.25.self_attn.q_proj.lora_A.default.weight', 'base_model.model.base_model.model.model.layers.25.self_attn.q_proj.lora_B.default.weight', 'base_model.model.base_model.model.model.layers.25.self_attn.k_proj.lora_A.default.weight', 'base_model.model.base_model.model.model.layers.25.self_attn.k_proj.lora_B.default.weight', 'base_model.model.base_model.model.model.layers.25.self_attn.v_proj.lora_A.default.weight', 'base_model.model.base_model.model.model.layers.25.self_attn.v_proj.lora_B.default.weight', 'base_model.model.base_model.model.model.layers.25.self_attn.o_proj.lora_A.default.weight', 'base_model.model.base_model.model.model.layers.25.self_attn.o_proj.lora_B.default.weight', 'base_model.model.base_model.model.model.layers.26.self_attn.q_proj.lora_A.default.weight', 'base_model.model.base_model.model.model.layers.26.self_attn.q_proj.lora_B.default.weight', 'base_model.model.base_model.model.model.layers.26.self_attn.k_proj.lora_A.default.weight', 'base_model.model.base_model.model.model.layers.26.self_attn.k_proj.lora_B.default.weight', 'base_model.model.base_model.model.model.layers.26.self_attn.v_proj.lora_A.default.weight', 'base_model.model.base_model.model.model.layers.26.self_attn.v_proj.lora_B.default.weight', 'base_model.model.base_model.model.model.layers.26.self_attn.o_proj.lora_A.default.weight', 'base_model.model.base_model.model.model.layers.26.self_attn.o_proj.lora_B.default.weight', 'base_model.model.base_model.model.model.layers.27.self_attn.q_proj.lora_A.default.weight', 'base_model.model.base_model.model.model.layers.27.self_attn.q_proj.lora_B.default.weight', 'base_model.model.base_model.model.model.layers.27.self_attn.k_proj.lora_A.default.weight', 'base_model.model.base_model.model.model.layers.27.self_attn.k_proj.lora_B.default.weight', 'base_model.model.base_model.model.model.layers.27.self_attn.v_proj.lora_A.default.weight', 'base_model.model.base_model.model.model.layers.27.self_attn.v_proj.lora_B.default.weight', 'base_model.model.base_model.model.model.layers.27.self_attn.o_proj.lora_A.default.weight', 'base_model.model.base_model.model.model.layers.27.self_attn.o_proj.lora_B.default.weight', 'base_model.model.base_model.model.model.layers.28.self_attn.q_proj.lora_A.default.weight', 'base_model.model.base_model.model.model.layers.28.self_attn.q_proj.lora_B.default.weight', 'base_model.model.base_model.model.model.layers.28.self_attn.k_proj.lora_A.default.weight', 'base_model.model.base_model.model.model.layers.28.self_attn.k_proj.lora_B.default.weight', 'base_model.model.base_model.model.model.layers.28.self_attn.v_proj.lora_A.default.weight', 'base_model.model.base_model.model.model.layers.28.self_attn.v_proj.lora_B.default.weight', 'base_model.model.base_model.model.model.layers.28.self_attn.o_proj.lora_A.default.weight', 'base_model.model.base_model.model.model.layers.28.self_attn.o_proj.lora_B.default.weight', 'base_model.model.base_model.model.model.layers.29.self_attn.q_proj.lora_A.default.weight', 'base_model.model.base_model.model.model.layers.29.self_attn.q_proj.lora_B.default.weight', 'base_model.model.base_model.model.model.layers.29.self_attn.k_proj.lora_A.default.weight', 'base_model.model.base_model.model.model.layers.29.self_attn.k_proj.lora_B.default.weight', 'base_model.model.base_model.model.model.layers.29.self_attn.v_proj.lora_A.default.weight', 'base_model.model.base_model.model.model.layers.29.self_attn.v_proj.lora_B.default.weight', 'base_model.model.base_model.model.model.layers.29.self_attn.o_proj.lora_A.default.weight', 'base_model.model.base_model.model.model.layers.29.self_attn.o_proj.lora_B.default.weight', 'base_model.model.base_model.model.model.layers.30.self_attn.q_proj.lora_A.default.weight', 'base_model.model.base_model.model.model.layers.30.self_attn.q_proj.lora_B.default.weight', 'base_model.model.base_model.model.model.layers.30.self_attn.k_proj.lora_A.default.weight', 'base_model.model.base_model.model.model.layers.30.self_attn.k_proj.lora_B.default.weight', 'base_model.model.base_model.model.model.layers.30.self_attn.v_proj.lora_A.default.weight', 'base_model.model.base_model.model.model.layers.30.self_attn.v_proj.lora_B.default.weight', 'base_model.model.base_model.model.model.layers.30.self_attn.o_proj.lora_A.default.weight', 'base_model.model.base_model.model.model.layers.30.self_attn.o_proj.lora_B.default.weight', 'base_model.model.base_model.model.model.layers.31.self_attn.q_proj.lora_A.default.weight', 'base_model.model.base_model.model.model.layers.31.self_attn.q_proj.lora_B.default.weight', 'base_model.model.base_model.model.model.layers.31.self_attn.k_proj.lora_A.default.weight', 'base_model.model.base_model.model.model.layers.31.self_attn.k_proj.lora_B.default.weight', 'base_model.model.base_model.model.model.layers.31.self_attn.v_proj.lora_A.default.weight', 'base_model.model.base_model.model.model.layers.31.self_attn.v_proj.lora_B.default.weight', 'base_model.model.base_model.model.model.layers.31.self_attn.o_proj.lora_A.default.weight', 'base_model.model.base_model.model.model.layers.31.self_attn.o_proj.lora_B.default.weight'].\n",
            "  warnings.warn(warn_message)\n",
            "Device set to use cuda:0\n"
          ]
        }
      ],
      "source": [
        "adapter_path = \"/content/drive/MyDrive/llama3-finetune-8B-instruct/outputs/adapter_model/\"\n",
        "\n",
        "# load and merge lora adapter\n",
        "fine_tuned_model = PeftModel.from_pretrained(model, adapter_path)\n",
        "\n",
        "# pipeline for text generation\n",
        "pipe = pipeline(\n",
        "    task=\"text-generation\",\n",
        "    model=fine_tuned_model,\n",
        "    tokenizer=tokenizer,\n",
        "    max_new_tokens=256,\n",
        "    temperature=0.7,\n",
        ")"
      ]
    },
    {
      "cell_type": "code",
      "execution_count": 44,
      "metadata": {
        "colab": {
          "base_uri": "https://localhost:8080/"
        },
        "executionInfo": {
          "elapsed": 39458,
          "status": "ok",
          "timestamp": 1754377581846,
          "user": {
            "displayName": "Utsab Dahal",
            "userId": "15827898341895760703"
          },
          "user_tz": -345
        },
        "id": "IqUydWnhA_em",
        "outputId": "a123a14a-9054-4752-e56c-4578871b30f1"
      },
      "outputs": [
        {
          "name": "stdout",
          "output_type": "stream",
          "text": [
            "Enter your coding prompt: function to check whether a number is odd or even\n",
            "\n",
            "\n",
            "Here is a simple function in JavaScript to check whether a number is odd or even:\n",
            "```\n",
            "function isOddOrEven(n) {\n",
            "  if (n % 2 === 0) {\n",
            "    return \"even\";\n",
            "  } else {\n",
            "    return \"odd\";\n",
            "  }\n",
            "}\n",
            "```\n",
            "This function takes an integer `n` as input and returns a string indicating whether it's odd or even.\n",
            "\n",
            "Here's how it works:\n",
            "\n",
            "* `n % 2` calculates the remainder of `n` divided by 2.\n",
            "* If the remainder is 0, the number is even.\n",
            "* If the remainder is not 0, the number is odd.\n",
            "\n",
            "You can use this function like this:\n",
            "```\n",
            "console.log(isOddOrEven(4)); // Output: \"even\"\n",
            "console.log(isOddOrEven(3)); // Output: \"odd\"\n",
            "```\n",
            "Alternatively, you can also use the ternary operator to make the function more concise:\n",
            "```\n",
            "function isOddOrEven(n) {\n",
            "  return n % 2 === 0? \"even\" : \"odd\";\n",
            "}\n",
            "```\n",
            "This function is equivalent to the previous one, but is a bit more concise.\n"
          ]
        }
      ],
      "source": [
        "# takes user input for prompt\n",
        "user_query = input(\"Enter your coding prompt: \")\n",
        "\n",
        "# format the user prompt\n",
        "prompt = f\"\"\"<|begin_of_text|><|start_header_id|>user<|end_header_id|>\n",
        "{user_query}<|eot_id|><|start_header_id|>assistant<|end_header_id|>\"\"\"\n",
        "\n",
        "# run the inference\n",
        "result = pipe(prompt)\n",
        "\n",
        "# get the full generated text\n",
        "output = result[0]['generated_text']\n",
        "\n",
        "# slice the output string to remove the prompt\n",
        "response = output[len(prompt):]\n",
        "\n",
        "print(response)"
      ]
    },
    {
      "cell_type": "code",
      "execution_count": 45,
      "metadata": {
        "colab": {
          "base_uri": "https://localhost:8080/",
          "height": 564
        },
        "executionInfo": {
          "elapsed": 645,
          "status": "ok",
          "timestamp": 1754377757019,
          "user": {
            "displayName": "Utsab Dahal",
            "userId": "15827898341895760703"
          },
          "user_tz": -345
        },
        "id": "1oSe6PPpDNpA",
        "outputId": "40ad3911-b169-447b-f319-7d6fdef612fe"
      },
      "outputs": [
        {
          "data": {
            "image/png": "[encoded data removed]",
            "text/plain": [
              "<Figure size 1000x600 with 1 Axes>"
            ]
          },
          "metadata": {},
          "output_type": "display_data"
        }
      ],
      "source": [
        "import pandas as pd\n",
        "import matplotlib.pyplot as plt\n",
        "\n",
        "# access the training logs\n",
        "log_history = trainer.state.log_history\n",
        "\n",
        "# convert the logs to a pandas DataFrame\n",
        "df = pd.DataFrame(log_history)\n",
        "\n",
        "# filter for training loss entries (excluding evaluation steps if any)\n",
        "training_logs = df[df['loss'].notna()].copy()\n",
        "\n",
        "# plot the training loss\n",
        "plt.figure(figsize=(10, 6))\n",
        "plt.plot(training_logs['step'], training_logs['loss'])\n",
        "plt.title(\"Training Loss Curve\")\n",
        "plt.xlabel(\"Training Steps\")\n",
        "plt.ylabel(\"Loss\")\n",
        "plt.grid(True)\n",
        "plt.show()"
      ]
    },
    {
      "cell_type": "code",
      "execution_count": null,
      "metadata": {
        "id": "kPVX2gO8EUrc"
      },
      "outputs": [],
      "source": []
    }
  ],
  "metadata": {
    "accelerator": "GPU",
    "colab": {
      "authorship_tag": "ABX9TyMx16FWrwgcM0I/jTKIv/0I",
      "gpuType": "T4",
      "mount_file_id": "18XxvaXb3F9x6-LLvBXHKvlfJWwu5XHu6",
      "provenance": []
    },
    "kernelspec": {
      "display_name": "Python 3",
      "name": "python3"
    },
    "language_info": {
      "name": "python"
    }
  },
  "nbformat": 4,
  "nbformat_minor": 0
}